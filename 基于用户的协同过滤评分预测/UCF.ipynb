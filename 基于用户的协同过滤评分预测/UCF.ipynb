{
 "cells": [
  {
   "cell_type": "markdown",
   "metadata": {},
   "source": [
    "# 库文件"
   ]
  },
  {
   "cell_type": "code",
   "execution_count": 39,
   "metadata": {},
   "outputs": [],
   "source": [
    "import pandas as pd\n",
    "import numpy as np\n",
    "import math"
   ]
  },
  {
   "cell_type": "markdown",
   "metadata": {},
   "source": [
    "# 设定路径"
   ]
  },
  {
   "cell_type": "code",
   "execution_count": 40,
   "metadata": {},
   "outputs": [],
   "source": [
    "train_filepath = 'train.csv'\n",
    "test_filepath = \"test.csv\"\n"
   ]
  },
  {
   "cell_type": "markdown",
   "metadata": {},
   "source": [
    "# 读取测试文件和测试文件"
   ]
  },
  {
   "cell_type": "code",
   "execution_count": 41,
   "metadata": {},
   "outputs": [],
   "source": [
    "class clearinfo:\n",
    "    def __init__(self,train_filepath,test_filepath):\n",
    "        self.train_filepath = train_filepath\n",
    "        self.test_filepath = test_filepath\n",
    "    def getinfo_train(self):\n",
    "        train_data = pd.read_csv(self.train_filepath,header=0)\n",
    "        return train_data\n",
    "    def getinfo_test(self):\n",
    "        test_data = pd.read_csv(self.test_filepath,header=0)\n",
    "        return test_data\n",
    "info = clearinfo(train_filepath,test_filepath)"
   ]
  },
  {
   "cell_type": "code",
   "execution_count": 42,
   "metadata": {},
   "outputs": [],
   "source": [
    "df_train = info.getinfo_train()\n",
    "#df_train\n",
    "#for row in df_train.iterrows():\n",
    "#    print(row)"
   ]
  },
  {
   "cell_type": "markdown",
   "metadata": {},
   "source": [
    "# 得到user_business矩阵函数\n",
    "df 转换为 dic"
   ]
  },
  {
   "cell_type": "code",
   "execution_count": 43,
   "metadata": {},
   "outputs": [],
   "source": [
    "def getUserBus(train_info):\n",
    "    UB_dict = {}\n",
    "    for row in train_info.itertuples():\n",
    "        if row[1] not in UB_dict:\n",
    "            UB_dict.setdefault(row[1],{})\n",
    "        UB_dict[row[1]][row[2]]=row[4]\n",
    "    return UB_dict\n",
    "UB = getUserBus(df_train)"
   ]
  },
  {
   "cell_type": "code",
   "execution_count": 44,
   "metadata": {},
   "outputs": [],
   "source": [
    "df_train = info.getinfo_train()\n",
    "df_test  = info.getinfo_test()\n",
    "#df_train = df_train.pivot_table(index = 'user_id',columns='business_id',values=\"stars\")"
   ]
  },
  {
   "cell_type": "markdown",
   "metadata": {},
   "source": [
    "# 构建共同评分向量"
   ]
  },
  {
   "cell_type": "code",
   "execution_count": 45,
   "metadata": {},
   "outputs": [],
   "source": [
    "def getsameVec(user1,user2,uudic):\n",
    "    user1_info = uudic[user1]\n",
    "    user2_info = uudic[user2]\n",
    "    #获取两位用户的评分向量\n",
    "    sameBusiness = []\n",
    "    for key in user1_info.keys():\n",
    "        if key in user2_info.keys():\n",
    "            sameBusiness.append(key)\n",
    "    x = {}\n",
    "    y = {}\n",
    "    for ele in sameBusiness:\n",
    "        x[ele]=user1_info[ele]\n",
    "        y[ele]=user2_info[ele]\n",
    "    return x,y\n",
    "#getsameVec(\"kjeX2RXvW7RhBbD2QLd5jA\",\"1O638BDK_fWuxgTVJwff-A\",getUserBus(df_train))"
   ]
  },
  {
   "cell_type": "code",
   "execution_count": 46,
   "metadata": {},
   "outputs": [],
   "source": [
    "#欧几里得距离\n",
    "def euclidean(user1,user2,uudic):\n",
    "    x,y=getsameVec(user1,user2,uudic)\n",
    "    distance = 0\n",
    "    for key in x.keys():\n",
    "        distance+=(x[key]-y[key])**2\n",
    "    try:\n",
    "        distance = 1+math.sqrt(distance)\n",
    "    except ZeroDivisionError:\n",
    "        distance = 0\n",
    "    return distance\n",
    "\n",
    "#余弦相似度\n",
    "def cosine(user1,user2,uudic):\n",
    "    x, y= getsameVec(user1,user2,uudic)\n",
    "    up=0\n",
    "    down1=0\n",
    "    down2=0\n",
    "    for key in x.keys():\n",
    "        up += x[key]*y[key]\n",
    "        down1 += x[key]**2\n",
    "        down2 +=y[key]**2\n",
    "    down = (down1*down2)**0.5\n",
    "    try:\n",
    "        dis = up/down\n",
    "    except ZeroDivisionError:\n",
    "        dis=0\n",
    "    return dis\n",
    "\n",
    "#皮尔逊相关系数\n",
    "def pearson(user1,user2,uudic):\n",
    "    x,y =getsameVec(user1,user2,uudic)\n",
    "    length = len(x)\n",
    "    if length == 0:\n",
    "        return 0\n",
    "    sumx=0\n",
    "    sumy=0\n",
    "    for key in x.keys():\n",
    "        sumx+=x[key]\n",
    "        sumy+=y[key]\n",
    "    mean1 = sumx/length\n",
    "    mean2 = sumy/length\n",
    "    up=0\n",
    "    down1=0\n",
    "    down2=0\n",
    "    for key in x.keys():\n",
    "        up += (x[key]-mean1)*(y[key]-mean2)\n",
    "        down1 +=(x[key]-mean1)**2\n",
    "        down2 +=(y[key]-mean2)**2\n",
    "    down = (down1*down2)**0.5\n",
    "    try:\n",
    "        value = up / down\n",
    "    except ZeroDivisionError:\n",
    "        value = 0\n",
    "    return value"
   ]
  },
  {
   "cell_type": "markdown",
   "metadata": {},
   "source": [
    "# 得到用户两两相似度矩阵"
   ]
  },
  {
   "cell_type": "code",
   "execution_count": 47,
   "metadata": {},
   "outputs": [
    {
     "data": {
      "text/plain": [
       "1.0"
      ]
     },
     "execution_count": 47,
     "metadata": {},
     "output_type": "execute_result"
    }
   ],
   "source": [
    "euclidean(\"kjeX2RXvW7RhBbD2QLd5jA\",\"1O638BDK_fWuxgTVJwff-A\",getUserBus(df_train))"
   ]
  },
  {
   "cell_type": "code",
   "execution_count": 48,
   "metadata": {},
   "outputs": [],
   "source": [
    "def getUU_cos(UB):\n",
    "    UU_dict = {}\n",
    "    for key in UB.keys():\n",
    "        UU_dict.setdefault(key,{})\n",
    "        for key_other in UB.keys():\n",
    "            if not key == key_other:\n",
    "                if cosine(key,key_other,UB) > 0:  \n",
    "#使用余弦相似度，可替换函数为皮尔逊和欧式距离\n",
    "                    UU_dict[key][key_other] = cosine(key,key_other,UB)\n",
    "        #UU_dict[key] = sorted(UU_dict[key].items(),key = lambda x:x[1],reverse=True)\n",
    "    return UU_dict  \n",
    "\n",
    "def getUU_euc(UB):\n",
    "    UU_dict = {}\n",
    "    for key in UB.keys():\n",
    "        UU_dict.setdefault(key,{})\n",
    "        for key_other in UB.keys():\n",
    "            if not key == key_other:\n",
    "                if euclidean(key,key_other,UB) > 0:  \n",
    "#使用欧式距离\n",
    "                    UU_dict[key][key_other] = euclidean(key,key_other,UB)\n",
    "        #UU_dict[key] = sorted(UU_dict[key].items(),key = lambda x:x[1],reverse=True)\n",
    "    return UU_dict  \n",
    "\n",
    "def getUU_pea(UB):\n",
    "    UU_dict = {}\n",
    "    for key in UB.keys():\n",
    "        UU_dict.setdefault(key,{})\n",
    "        for key_other in UB.keys():\n",
    "            if not key == key_other:\n",
    "                if pearson(key,key_other,UB) > 0:  \n",
    "#使用皮尔逊\n",
    "                    UU_dict[key][key_other] = pearson(key,key_other,UB)\n",
    "        #UU_dict[key] = sorted(UU_dict[key].items(),key = lambda x:x[1],reverse=True)\n",
    "    return UU_dict  "
   ]
  },
  {
   "cell_type": "code",
   "execution_count": 49,
   "metadata": {},
   "outputs": [],
   "source": [
    "UU_cos = getUU_cos(UB) #相似用户矩阵_余弦相似度\n",
    "UU_euc = getUU_euc(UB) #相似用户矩阵_欧氏距离\n",
    "UU_pea = getUU_pea(UB) #相似用户矩阵_皮尔逊相似度\n",
    "#UU"
   ]
  },
  {
   "cell_type": "code",
   "execution_count": 50,
   "metadata": {},
   "outputs": [
    {
     "data": {
      "text/plain": [
       "0"
      ]
     },
     "execution_count": 50,
     "metadata": {},
     "output_type": "execute_result"
    }
   ],
   "source": [
    "def preScore(user,business,UB,UU):\n",
    "    up = 0\n",
    "    down = 0\n",
    "    for simiUser in UU[user].keys():\n",
    "        if business in UB[simiUser].keys():\n",
    "            up += UB[simiUser][business]*UU[user][simiUser]\n",
    "            down += UU[user][simiUser]\n",
    "    try:\n",
    "        value = up/down\n",
    "    except ZeroDivisionError:\n",
    "        value = 0\n",
    "    return  round(value,1)\n",
    "preScore(\"48vRThjhuhiSQINQ2KV8Sw\",\"LNGBEEelQx4zbfWnlc66cw\",UB,UU_pea)"
   ]
  },
  {
   "cell_type": "markdown",
   "metadata": {},
   "source": [
    "# 欧氏距离"
   ]
  },
  {
   "cell_type": "code",
   "execution_count": 53,
   "metadata": {},
   "outputs": [],
   "source": [
    "def pre_result(test):\n",
    "    lis = []\n",
    "    for row in test.itertuples():\n",
    "        lis.append(preScore(row[1],row[2],UB,UU_euc))\n",
    "    df_temp = pd.DataFrame(lis,columns =[\"pre_stars\"] )\n",
    "    df = pd.concat([test,df_temp],axis=1)\n",
    "    return df\n",
    "pre_result(df_test).to_csv(\"Result1.csv\")"
   ]
  },
  {
   "cell_type": "markdown",
   "metadata": {},
   "source": [
    "# 余弦相似度"
   ]
  },
  {
   "cell_type": "code",
   "execution_count": 55,
   "metadata": {},
   "outputs": [],
   "source": [
    "def pre_result(test):\n",
    "    lis = []\n",
    "    for row in test.itertuples():\n",
    "        lis.append(preScore(row[1],row[2],UB,UU_cos))\n",
    "    df_temp = pd.DataFrame(lis,columns =[\"pre_stars\"] )\n",
    "    df = pd.concat([test,df_temp],axis=1)\n",
    "    return df\n",
    "pre_result(df_test).to_csv(\"Result2.csv\")"
   ]
  },
  {
   "cell_type": "markdown",
   "metadata": {},
   "source": [
    "# 皮尔逊相似度"
   ]
  },
  {
   "cell_type": "code",
   "execution_count": 56,
   "metadata": {},
   "outputs": [],
   "source": [
    "def pre_result(test):\n",
    "    lis = []\n",
    "    for row in test.itertuples():\n",
    "        lis.append(preScore(row[1],row[2],UB,UU_pea))\n",
    "    df_temp = pd.DataFrame(lis,columns =[\"pre_stars\"] )\n",
    "    df = pd.concat([test,df_temp],axis=1)\n",
    "    return df\n",
    "pre_result(df_test).to_csv(\"Result3.csv\")\n"
   ]
  }
 ],
 "metadata": {
  "kernelspec": {
   "display_name": "Python 3",
   "language": "python",
   "name": "python3"
  },
  "language_info": {
   "codemirror_mode": {
    "name": "ipython",
    "version": 3
   },
   "file_extension": ".py",
   "mimetype": "text/x-python",
   "name": "python",
   "nbconvert_exporter": "python",
   "pygments_lexer": "ipython3",
   "version": "3.7.6"
  }
 },
 "nbformat": 4,
 "nbformat_minor": 4
}
