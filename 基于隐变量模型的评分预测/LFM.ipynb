{
 "cells": [
  {
   "cell_type": "markdown",
   "metadata": {},
   "source": [
    "# 库文件"
   ]
  },
  {
   "cell_type": "code",
   "execution_count": 138,
   "metadata": {},
   "outputs": [],
   "source": [
    "import pandas as pd\n",
    "import numpy as np\n",
    "import math\n",
    "from math import sqrt\n",
    "import matplotlib.pyplot as plt\n",
    "from collections import defaultdict"
   ]
  },
  {
   "cell_type": "markdown",
   "metadata": {},
   "source": [
    "# 设定路径"
   ]
  },
  {
   "cell_type": "code",
   "execution_count": 139,
   "metadata": {},
   "outputs": [],
   "source": [
    "train_filepath = \"train.csv\"\n",
    "test_filepath = \"test.csv\""
   ]
  },
  {
   "cell_type": "markdown",
   "metadata": {},
   "source": [
    "# 读取样本文件和测试文件"
   ]
  },
  {
   "cell_type": "code",
   "execution_count": 140,
   "metadata": {},
   "outputs": [],
   "source": [
    "class clearinfo:\n",
    "    def __init__(self,train_filepath,test_filepath):\n",
    "        self.train_filepath = train_filepath\n",
    "        self.test_filepath = test_filepath\n",
    "    def getinfo_train(self):\n",
    "        train_data = pd.read_csv(self.train_filepath,header=0)\n",
    "        return train_data\n",
    "    def getinfo_test(self):\n",
    "        test_data = pd.read_csv(self.test_filepath,header=0)\n",
    "        return test_data\n",
    "info = clearinfo(train_filepath,test_filepath)"
   ]
  },
  {
   "cell_type": "code",
   "execution_count": 141,
   "metadata": {},
   "outputs": [],
   "source": [
    "df_train = info.getinfo_train()\n",
    "df_test  = info.getinfo_test()"
   ]
  },
  {
   "cell_type": "code",
   "execution_count": 142,
   "metadata": {
    "scrolled": true
   },
   "outputs": [],
   "source": [
    "df_train.drop('date',axis=1,inplace=True)\n",
    "df_test.drop('date',axis=1,inplace=True)"
   ]
  },
  {
   "cell_type": "markdown",
   "metadata": {},
   "source": [
    "# User与Business标号"
   ]
  },
  {
   "cell_type": "code",
   "execution_count": 144,
   "metadata": {},
   "outputs": [],
   "source": [
    "U_id  = {}\n",
    "id_U  = {}\n",
    "B_id  = {}\n",
    "id_B  = {}"
   ]
  },
  {
   "cell_type": "code",
   "execution_count": 146,
   "metadata": {},
   "outputs": [
    {
     "name": "stderr",
     "output_type": "stream",
     "text": [
      "<ipython-input-146-a8185f0b7380>:7: SettingWithCopyWarning: \n",
      "A value is trying to be set on a copy of a slice from a DataFrame\n",
      "\n",
      "See the caveats in the documentation: https://pandas.pydata.org/pandas-docs/stable/user_guide/indexing.html#returning-a-view-versus-a-copy\n",
      "  df['user_id'][i]=i\n",
      "<ipython-input-146-a8185f0b7380>:13: SettingWithCopyWarning: \n",
      "A value is trying to be set on a copy of a slice from a DataFrame\n",
      "\n",
      "See the caveats in the documentation: https://pandas.pydata.org/pandas-docs/stable/user_guide/indexing.html#returning-a-view-versus-a-copy\n",
      "  df['business_id'][i]=i\n",
      "<ipython-input-146-a8185f0b7380>:15: SettingWithCopyWarning: \n",
      "A value is trying to be set on a copy of a slice from a DataFrame\n",
      "\n",
      "See the caveats in the documentation: https://pandas.pydata.org/pandas-docs/stable/user_guide/indexing.html#returning-a-view-versus-a-copy\n",
      "  df['business_id'][i]=B_id[df['business_id'][i]]\n",
      "<ipython-input-146-a8185f0b7380>:9: SettingWithCopyWarning: \n",
      "A value is trying to be set on a copy of a slice from a DataFrame\n",
      "\n",
      "See the caveats in the documentation: https://pandas.pydata.org/pandas-docs/stable/user_guide/indexing.html#returning-a-view-versus-a-copy\n",
      "  df['user_id'][i] = U_id[df['user_id'][i]]\n"
     ]
    }
   ],
   "source": [
    "def grade(df):\n",
    "    global U_id,id_U,B_id,id_B\n",
    "    for i in range(0,len(df)):\n",
    "        if df['user_id'][i] not in U_id:\n",
    "            U_id[df['user_id'][i]]=i\n",
    "            id_U[i]=df['user_id'][i]\n",
    "            df['user_id'][i]=i\n",
    "        else:\n",
    "            df['user_id'][i] = U_id[df['user_id'][i]]\n",
    "        if df['business_id'][i] not in B_id:\n",
    "            B_id[df['business_id'][i]]=i\n",
    "            id_B[i]=df['business_id'][i]\n",
    "            df['business_id'][i]=i\n",
    "        else:\n",
    "            df['business_id'][i]=B_id[df['business_id'][i]]\n",
    "    return df\n",
    "tr_grade = grade(df_train)"
   ]
  },
  {
   "cell_type": "code",
   "execution_count": 148,
   "metadata": {},
   "outputs": [],
   "source": [
    "def grade_te(df):\n",
    "    for i in range(0,len(df)):\n",
    "        df['user_id'][i]=U_id[df['user_id'][i]]\n",
    "        df['business_id'][i]=B_id[df['business_id'][i]]\n",
    "    return df\n",
    "te_grade = grade_te(df_test)"
   ]
  },
  {
   "cell_type": "markdown",
   "metadata": {},
   "source": [
    "# 实现隐变量模型类"
   ]
  },
  {
   "cell_type": "code",
   "execution_count": 155,
   "metadata": {},
   "outputs": [],
   "source": [
    "class LF:\n",
    "    def __init__(self,df,k,norm):\n",
    "        #先生成一个User_Business评分矩阵，这里先构建一个全0矩阵，稍后填充\n",
    "        self.UB = np.mat(np.zeros((int(df[['user_id']].max())+1,int(df[['business_id']].max())+1))) \n",
    "        #找到对B评论的所有U，和U评论的所有B\n",
    "        self.B_U = defaultdict(set)\n",
    "        self.U_B = defaultdict(set)\n",
    "        for i in range(0,len(df)):\n",
    "            user,business,stars =int(df['user_id'][i]),int(df['business_id'][i]),df['stars'][i]   \n",
    "            self.UB[user,business]=stars\n",
    "            self.B_U[business].add(user)\n",
    "            self.U_B[user].add(business)\n",
    "        self.k= k  #选取的k\n",
    "        self.norm = norm\n",
    "        #构建预测评分矩阵\n",
    "        self.User =  np.mat(np.random.uniform(sqrt(1/k),sqrt(5/k),(self.UB.shape[0],k)))\n",
    "        self.Business =  np.mat(np.random.uniform(sqrt(1/k),sqrt(5/k),(self.UB.shape[1],k)))\n",
    "        \n",
    "    #定义损失函数\n",
    "    def loss(self):\n",
    "        ret = self.norm * (np.sum(np.square(self.User)) + np.sum(np.square(self.Business)))\n",
    "        #User * Business 的转置\n",
    "        pred = self.User * self.Business.T \n",
    "        for i in range(self.UB.shape[0]):\n",
    "            for j in range(self.UB.shape[1]):\n",
    "                if self.UB[i,j] != 0:\n",
    "                    ret += (self.UB[i,j] - pred[i,j]) ** 2\n",
    "        return ret\n",
    "    \n",
    "    #梯度下降\n",
    "    #lr学习率，maxd最大迭代深度，th阈值\n",
    "    def grad_fit(self,lr = 0.01,maxd = 15,th = 100): \n",
    "        d = 0\n",
    "        x = []\n",
    "        loss_val = []\n",
    "        train_score = []\n",
    "        val_score = []\n",
    "        while d < maxd and self.loss() > th:\n",
    "            for uid in range(1,self.UB.shape[0]):\n",
    "                grad = 2 * self.norm * self.User[uid]\n",
    "                for bid in self.U_B[uid]:\n",
    "                    grad = grad - 2 * (self.UB[uid,bid] - self.User[uid] * self.Business[bid].T) * self.Business[bid] \n",
    "                self.User[uid] = self.User[uid] - lr * grad\n",
    "            for bid in range(1,self.UB.shape[1]):\n",
    "                grad = 2 * self.norm * self.Business[bid]\n",
    "                for uid in self.B_U[bid]:\n",
    "                    grad = grad - 2 * (self.UB[uid,bid] - self.User[uid] * self.Business[bid].T) * self.User[uid] \n",
    "                self.Business[bid] = self.Business[bid] - lr * grad\n",
    "            x.append(d)\n",
    "            loss_val.append(self.loss())\n",
    "            train_score.append(self.RMSE_score(tr_grade))\n",
    "            val_score.append(self.RMSE_score(tr_grade))\n",
    "            d += 1\n",
    "        return x,loss_val,train_score,val_score\n",
    "    \n",
    "    #交替最小二乘法\n",
    "    #maxd最大迭代深度，th阈值\n",
    "    def als_fit(self,maxd = 25,th = 100): \n",
    "        d = 0\n",
    "        x = []\n",
    "        loss_val = []\n",
    "        train_score = []\n",
    "        val_score = []\n",
    "        while d < maxd and self.loss() > th:\n",
    "            for uid in range(1,self.UB.shape[0]):\n",
    "                left = np.mat(np.zeros((1,self.k)))\n",
    "                right = np.mat(np.zeros((self.k,self.k)))\n",
    "                for bid in self.U_B[uid]:\n",
    "                    right += self.Business[bid].T * self.Business[bid]\n",
    "                    left += self.UB[uid,bid] * self.Business[bid]\n",
    "                right += self.norm * np.identity(self.k)\n",
    "                if abs(np.linalg.det(right)) < 1e-6:\n",
    "                    self.User[uid] = left * np.linalg.pinv(right + self.norm * np.identity(self.k)) \n",
    "                else:\n",
    "                    self.User[uid] = left * np.linalg.inv(right + self.norm * np.identity(self.k))  \n",
    "                #采用moore-penrose伪逆\n",
    "            for bid in range(1,self.UB.shape[1]):\n",
    "                left = np.mat(np.zeros((1,self.k)))\n",
    "                right = np.mat(np.zeros((self.k,self.k)))\n",
    "                for uid in self.B_U[bid]:\n",
    "                    right += self.User[uid].T * self.User[uid]\n",
    "                    left += self.UB[uid,bid] * self.User[uid]\n",
    "                right += self.norm * np.identity(self.k)\n",
    "                if abs(np.linalg.det(right)) < 1e-6:\n",
    "                    self.Business[bid] = left * np.linalg.pinv(right + self.norm * np.identity(self.k)) \n",
    "                else:\n",
    "                    self.Business[bid] = left * np.linalg.inv(right + self.norm * np.identity(self.k))  \n",
    "                #同上，采用moore-penrose伪逆\n",
    "            x.append(d)\n",
    "            loss_val.append(self.loss())\n",
    "            train_score.append(self.RMSE_score(tr_grade))\n",
    "            val_score.append(self.RMSE_score(tr_grade))\n",
    "            d += 1\n",
    "        return x,loss_val,train_score,val_score\n",
    "    \n",
    "    #计算评价指标RMSE\n",
    "    def RMSE_score(self,df):\n",
    "        r = 0\n",
    "        n = 0\n",
    "        pred = self.User * self.Business.T\n",
    "        for i in range(0,len(df)):\n",
    "            uid,bid,stars =int(df['user_id'][i]),int(df['business_id'][i]),df['stars'][i] \n",
    "            if uid < pred.shape[0] and bid < pred.shape[1]:\n",
    "                r += (pred[uid,bid] - stars) ** 2\n",
    "                n += 1\n",
    "        return sqrt(r/n)\n",
    "    \n",
    "    #预测结果\n",
    "    def pred(self,df_test):\n",
    "        ans = []\n",
    "        pred = self.User* self.Business.T\n",
    "        for idx,row in df_test.iterrows():\n",
    "            uid,bid = int(row['user_id']),int(row['business_id'])\n",
    "            if uid < pred.shape[0] and bid < pred.shape[1]:\n",
    "                ans.append(pred[uid,bid])\n",
    "            else:\n",
    "                ans.append(3)\n",
    "        return ans"
   ]
  },
  {
   "cell_type": "markdown",
   "metadata": {},
   "source": [
    "# 生成隐变量模型"
   ]
  },
  {
   "cell_type": "code",
   "execution_count": 156,
   "metadata": {},
   "outputs": [],
   "source": [
    "model = LF(df=tr_grade,k=5,norm=0.01)"
   ]
  },
  {
   "cell_type": "markdown",
   "metadata": {},
   "source": [
    "# 得到梯度下降下的结果并在训练集上验证"
   ]
  },
  {
   "cell_type": "code",
   "execution_count": 98,
   "metadata": {},
   "outputs": [],
   "source": [
    "x,loss_val,train_score,val_score = model.grad_fit()"
   ]
  },
  {
   "cell_type": "code",
   "execution_count": 99,
   "metadata": {},
   "outputs": [
    {
     "data": {
      "text/plain": [
       "[<matplotlib.lines.Line2D at 0x1c3600a1970>]"
      ]
     },
     "execution_count": 99,
     "metadata": {},
     "output_type": "execute_result"
    },
    {
     "data": {
      "image/png": "[encoded data removed]",
      "text/plain": [
       "<Figure size 432x288 with 1 Axes>"
      ]
     },
     "metadata": {
      "needs_background": "light"
     },
     "output_type": "display_data"
    }
   ],
   "source": [
    "plt.plot(x,loss_val)"
   ]
  },
  {
   "cell_type": "code",
   "execution_count": 100,
   "metadata": {},
   "outputs": [
    {
     "data": {
      "text/plain": [
       "[<matplotlib.lines.Line2D at 0x1c3440c0ee0>]"
      ]
     },
     "execution_count": 100,
     "metadata": {},
     "output_type": "execute_result"
    },
    {
     "data": {
      "image/png": "[encoded data removed]",
      "text/plain": [
       "<Figure size 432x288 with 1 Axes>"
      ]
     },
     "metadata": {
      "needs_background": "light"
     },
     "output_type": "display_data"
    }
   ],
   "source": [
    "plt.plot(x,train_score)"
   ]
  },
  {
   "cell_type": "code",
   "execution_count": 101,
   "metadata": {},
   "outputs": [
    {
     "data": {
      "text/plain": [
       "[<matplotlib.lines.Line2D at 0x1c34410b3d0>]"
      ]
     },
     "execution_count": 101,
     "metadata": {},
     "output_type": "execute_result"
    },
    {
     "data": {
      "image/png": "[encoded data removed]",
      "text/plain": [
       "<Figure size 432x288 with 1 Axes>"
      ]
     },
     "metadata": {
      "needs_background": "light"
     },
     "output_type": "display_data"
    }
   ],
   "source": [
    "plt.plot(x,val_score)"
   ]
  },
  {
   "cell_type": "code",
   "execution_count": 102,
   "metadata": {},
   "outputs": [
    {
     "data": {
      "text/plain": [
       "0.7204872699371734"
      ]
     },
     "execution_count": 102,
     "metadata": {},
     "output_type": "execute_result"
    }
   ],
   "source": [
    "model.RMSE_score(tr_grade)"
   ]
  },
  {
   "cell_type": "markdown",
   "metadata": {},
   "source": [
    "# 得到交替最小二乘法下的结果并在训练集上验证"
   ]
  },
  {
   "cell_type": "code",
   "execution_count": 157,
   "metadata": {},
   "outputs": [],
   "source": [
    "x1,loss_val1,train_score1,val_score1 = model.als_fit()"
   ]
  },
  {
   "cell_type": "code",
   "execution_count": 158,
   "metadata": {},
   "outputs": [
    {
     "data": {
      "text/plain": [
       "0.14840797049950902"
      ]
     },
     "execution_count": 158,
     "metadata": {},
     "output_type": "execute_result"
    }
   ],
   "source": [
    "model.RMSE_score(tr_grade)"
   ]
  },
  {
   "cell_type": "code",
   "execution_count": 160,
   "metadata": {},
   "outputs": [
    {
     "data": {
      "text/plain": [
       "[<matplotlib.lines.Line2D at 0x1c343951790>]"
      ]
     },
     "execution_count": 160,
     "metadata": {},
     "output_type": "execute_result"
    },
    {
     "data": {
      "image/png": "[encoded data removed]",
      "text/plain": [
       "<Figure size 432x288 with 1 Axes>"
      ]
     },
     "metadata": {
      "needs_background": "light"
     },
     "output_type": "display_data"
    }
   ],
   "source": [
    "plt.plot(x1,loss_val1)"
   ]
  },
  {
   "cell_type": "code",
   "execution_count": 161,
   "metadata": {},
   "outputs": [
    {
     "data": {
      "text/plain": [
       "[<matplotlib.lines.Line2D at 0x1c343989850>]"
      ]
     },
     "execution_count": 161,
     "metadata": {},
     "output_type": "execute_result"
    },
    {
     "data": {
      "image/png": "[encoded data removed]",
      "text/plain": [
       "<Figure size 432x288 with 1 Axes>"
      ]
     },
     "metadata": {
      "needs_background": "light"
     },
     "output_type": "display_data"
    }
   ],
   "source": [
    "plt.plot(x1,train_score1)"
   ]
  },
  {
   "cell_type": "code",
   "execution_count": 162,
   "metadata": {},
   "outputs": [
    {
     "data": {
      "text/plain": [
       "[<matplotlib.lines.Line2D at 0x1c3439c19d0>]"
      ]
     },
     "execution_count": 162,
     "metadata": {},
     "output_type": "execute_result"
    },
    {
     "data": {
      "image/png": "[encoded data removed]",
      "text/plain": [
       "<Figure size 432x288 with 1 Axes>"
      ]
     },
     "metadata": {
      "needs_background": "light"
     },
     "output_type": "display_data"
    }
   ],
   "source": [
    "plt.plot(x1,val_score1)"
   ]
  },
  {
   "cell_type": "markdown",
   "metadata": {},
   "source": [
    "# 在测试集上得到结果"
   ]
  },
  {
   "cell_type": "code",
   "execution_count": 163,
   "metadata": {},
   "outputs": [],
   "source": [
    "ans = model.pred(df_test)"
   ]
  },
  {
   "cell_type": "code",
   "execution_count": 164,
   "metadata": {},
   "outputs": [],
   "source": [
    "info = clearinfo(train_filepath,test_filepath)\n",
    "df_test  = info.getinfo_test()\n",
    "df_test.drop('date',axis=1,inplace=True)\n",
    "df_test['stars'] = ans"
   ]
  },
  {
   "cell_type": "code",
   "execution_count": 165,
   "metadata": {},
   "outputs": [
    {
     "data": {
      "text/html": [
       "<div>\n",
       "<style scoped>\n",
       "    .dataframe tbody tr th:only-of-type {\n",
       "        vertical-align: middle;\n",
       "    }\n",
       "\n",
       "    .dataframe tbody tr th {\n",
       "        vertical-align: top;\n",
       "    }\n",
       "\n",
       "    .dataframe thead th {\n",
       "        text-align: right;\n",
       "    }\n",
       "</style>\n",
       "<table border=\"1\" class=\"dataframe\">\n",
       "  <thead>\n",
       "    <tr style=\"text-align: right;\">\n",
       "      <th></th>\n",
       "      <th>user_id</th>\n",
       "      <th>business_id</th>\n",
       "      <th>stars</th>\n",
       "    </tr>\n",
       "  </thead>\n",
       "  <tbody>\n",
       "    <tr>\n",
       "      <th>0</th>\n",
       "      <td>PfpRvMAESbC2bC8FUIMdNg</td>\n",
       "      <td>Kbbm6Vd5UdbP10dwjBghRw</td>\n",
       "      <td>5.379854</td>\n",
       "    </tr>\n",
       "    <tr>\n",
       "      <th>1</th>\n",
       "      <td>oaaEXgQ3x51cXE3GTXrT1Q</td>\n",
       "      <td>2GmGT-7QjowR1ihup3FbVA</td>\n",
       "      <td>1.043902</td>\n",
       "    </tr>\n",
       "    <tr>\n",
       "      <th>2</th>\n",
       "      <td>yT_QCcnq-QGipWWuzIpvtw</td>\n",
       "      <td>pOEL97ld-FJMKO8Ki8JmYg</td>\n",
       "      <td>3.314931</td>\n",
       "    </tr>\n",
       "    <tr>\n",
       "      <th>3</th>\n",
       "      <td>fRVNHAl2RjosC67Y67G3cA</td>\n",
       "      <td>UkWme3kwg6L9rd4tCNB15w</td>\n",
       "      <td>2.902897</td>\n",
       "    </tr>\n",
       "    <tr>\n",
       "      <th>4</th>\n",
       "      <td>48vRThjhuhiSQINQ2KV8Sw</td>\n",
       "      <td>LNGBEEelQx4zbfWnlc66cw</td>\n",
       "      <td>3.864418</td>\n",
       "    </tr>\n",
       "    <tr>\n",
       "      <th>...</th>\n",
       "      <td>...</td>\n",
       "      <td>...</td>\n",
       "      <td>...</td>\n",
       "    </tr>\n",
       "    <tr>\n",
       "      <th>1957</th>\n",
       "      <td>UL5K2rnSYIPD1LcqPgbmDQ</td>\n",
       "      <td>CauQnqZ5eowyrr7oWF_p3Q</td>\n",
       "      <td>-0.410740</td>\n",
       "    </tr>\n",
       "    <tr>\n",
       "      <th>1958</th>\n",
       "      <td>C4OkiPljZ3z2XUa7onmihQ</td>\n",
       "      <td>GI-CAiZ_Gg3h21PwrANB4Q</td>\n",
       "      <td>3.028617</td>\n",
       "    </tr>\n",
       "    <tr>\n",
       "      <th>1959</th>\n",
       "      <td>N3oNEwh0qgPqPP3Em6wJXw</td>\n",
       "      <td>2UgRg5a6KmpbD_SZfhNrKg</td>\n",
       "      <td>3.429392</td>\n",
       "    </tr>\n",
       "    <tr>\n",
       "      <th>1960</th>\n",
       "      <td>xAWA2aheTP6YwcFWgmeLaQ</td>\n",
       "      <td>f-2pMptlB6cWaWnU7zYE_A</td>\n",
       "      <td>2.774946</td>\n",
       "    </tr>\n",
       "    <tr>\n",
       "      <th>1961</th>\n",
       "      <td>ZngF2uBYrqyFjXd6LvuluQ</td>\n",
       "      <td>sv694ZNBZfoC18OL5eRVuw</td>\n",
       "      <td>-0.210594</td>\n",
       "    </tr>\n",
       "  </tbody>\n",
       "</table>\n",
       "<p>1962 rows × 3 columns</p>\n",
       "</div>"
      ],
      "text/plain": [
       "                     user_id             business_id     stars\n",
       "0     PfpRvMAESbC2bC8FUIMdNg  Kbbm6Vd5UdbP10dwjBghRw  5.379854\n",
       "1     oaaEXgQ3x51cXE3GTXrT1Q  2GmGT-7QjowR1ihup3FbVA  1.043902\n",
       "2     yT_QCcnq-QGipWWuzIpvtw  pOEL97ld-FJMKO8Ki8JmYg  3.314931\n",
       "3     fRVNHAl2RjosC67Y67G3cA  UkWme3kwg6L9rd4tCNB15w  2.902897\n",
       "4     48vRThjhuhiSQINQ2KV8Sw  LNGBEEelQx4zbfWnlc66cw  3.864418\n",
       "...                      ...                     ...       ...\n",
       "1957  UL5K2rnSYIPD1LcqPgbmDQ  CauQnqZ5eowyrr7oWF_p3Q -0.410740\n",
       "1958  C4OkiPljZ3z2XUa7onmihQ  GI-CAiZ_Gg3h21PwrANB4Q  3.028617\n",
       "1959  N3oNEwh0qgPqPP3Em6wJXw  2UgRg5a6KmpbD_SZfhNrKg  3.429392\n",
       "1960  xAWA2aheTP6YwcFWgmeLaQ  f-2pMptlB6cWaWnU7zYE_A  2.774946\n",
       "1961  ZngF2uBYrqyFjXd6LvuluQ  sv694ZNBZfoC18OL5eRVuw -0.210594\n",
       "\n",
       "[1962 rows x 3 columns]"
      ]
     },
     "execution_count": 165,
     "metadata": {},
     "output_type": "execute_result"
    }
   ],
   "source": [
    "df_test"
   ]
  },
  {
   "cell_type": "code",
   "execution_count": 167,
   "metadata": {},
   "outputs": [],
   "source": [
    "df_test.to_csv(\"answer_ALS.csv\")"
   ]
  }
 ],
 "metadata": {
  "kernelspec": {
   "display_name": "Python 3",
   "language": "python",
   "name": "python3"
  },
  "language_info": {
   "codemirror_mode": {
    "name": "ipython",
    "version": 3
   },
   "file_extension": ".py",
   "mimetype": "text/x-python",
   "name": "python",
   "nbconvert_exporter": "python",
   "pygments_lexer": "ipython3",
   "version": "3.8.3"
  }
 },
 "nbformat": 4,
 "nbformat_minor": 4
}
